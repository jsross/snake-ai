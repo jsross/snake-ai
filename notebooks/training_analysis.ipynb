{
 "cells": [
  {
   "cell_type": "markdown",
   "id": "69a5abe2",
   "metadata": {},
   "source": [
    "# Snake AI Training Analysis\n",
    "\n",
    "This notebook provides comprehensive analysis of training sessions, including:\n",
    "- Loading and visualizing training data from CSV files\n",
    "- Comparing different strategy performances\n",
    "- Analyzing reward components\n",
    "- Creating interactive plots and dashboards"
   ]
  },
  {
   "cell_type": "code",
   "execution_count": 1,
   "id": "82da9663",
   "metadata": {},
   "outputs": [
    {
     "name": "stdout",
     "output_type": "stream",
     "text": [
      "Libraries imported successfully!\n"
     ]
    }
   ],
   "source": [
    "import pandas as pd\n",
    "import numpy as np\n",
    "import matplotlib.pyplot as plt\n",
    "import seaborn as sns\n",
    "import plotly.graph_objects as go\n",
    "import plotly.express as px\n",
    "from plotly.subplots import make_subplots\n",
    "import os\n",
    "import glob\n",
    "from pathlib import Path\n",
    "import sys\n",
    "\n",
    "# Add the src directory to Python path to import our modules\n",
    "sys.path.append('../src')\n",
    "\n",
    "# Set style\n",
    "plt.style.use('seaborn-v0_8')\n",
    "sns.set_palette(\"husl\")\n",
    "\n",
    "print(\"Libraries imported successfully!\")"
   ]
  },
  {
   "cell_type": "markdown",
   "id": "4151bca7",
   "metadata": {},
   "source": [
    "## 1. Load Training Data\n",
    "\n",
    "Load training data from your project's CSV files. Adjust the path to point to your actual project data location."
   ]
  },
  {
   "cell_type": "code",
   "execution_count": 2,
   "id": "0f55b275",
   "metadata": {},
   "outputs": [
    {
     "name": "stdout",
     "output_type": "stream",
     "text": [
      "Found 5 training data files:\n",
      "  training_data_session_1_1754161696.csv - 1754161696.5073593\n",
      "  training_data_session_2_1754164610.csv - 1754164612.0944345\n",
      "  training_data_session_1_1754235775.csv - 1754235782.9844968\n",
      "  training_data_session_1_1754166796.csv - 1754166796.7828321\n",
      "  training_data_session_1_1754167725.csv - 1754167725.8998537\n",
      "\n",
      "Loading: C:\\Users\\jross\\AppData\\Roaming\\SnakeAI\\projects\\Snake_AI_Project_0\\logs\\training_data_session_1_1754235775.csv\n",
      "Loaded 10 episodes of training data\n",
      "Columns: ['episode', 'score', 'steps', 'total_reward', 'epsilon', 'duration', 'avg_score_100', 'avg_reward_100']\n",
      "\n",
      "First few rows:\n"
     ]
    },
    {
     "data": {
      "text/html": [
       "<div>\n",
       "<style scoped>\n",
       "    .dataframe tbody tr th:only-of-type {\n",
       "        vertical-align: middle;\n",
       "    }\n",
       "\n",
       "    .dataframe tbody tr th {\n",
       "        vertical-align: top;\n",
       "    }\n",
       "\n",
       "    .dataframe thead th {\n",
       "        text-align: right;\n",
       "    }\n",
       "</style>\n",
       "<table border=\"1\" class=\"dataframe\">\n",
       "  <thead>\n",
       "    <tr style=\"text-align: right;\">\n",
       "      <th></th>\n",
       "      <th>episode</th>\n",
       "      <th>score</th>\n",
       "      <th>steps</th>\n",
       "      <th>total_reward</th>\n",
       "      <th>epsilon</th>\n",
       "      <th>duration</th>\n",
       "      <th>avg_score_100</th>\n",
       "      <th>avg_reward_100</th>\n",
       "    </tr>\n",
       "  </thead>\n",
       "  <tbody>\n",
       "    <tr>\n",
       "      <th>0</th>\n",
       "      <td>5</td>\n",
       "      <td>0</td>\n",
       "      <td>14</td>\n",
       "      <td>-50.15</td>\n",
       "      <td>0.999208</td>\n",
       "      <td>0.011178</td>\n",
       "      <td>0.0</td>\n",
       "      <td>-50.150000</td>\n",
       "    </tr>\n",
       "    <tr>\n",
       "      <th>1</th>\n",
       "      <td>6</td>\n",
       "      <td>0</td>\n",
       "      <td>25</td>\n",
       "      <td>-60.00</td>\n",
       "      <td>0.998812</td>\n",
       "      <td>0.013971</td>\n",
       "      <td>0.0</td>\n",
       "      <td>-55.075000</td>\n",
       "    </tr>\n",
       "    <tr>\n",
       "      <th>2</th>\n",
       "      <td>7</td>\n",
       "      <td>0</td>\n",
       "      <td>6</td>\n",
       "      <td>-49.95</td>\n",
       "      <td>0.998416</td>\n",
       "      <td>0.003056</td>\n",
       "      <td>0.0</td>\n",
       "      <td>-53.366667</td>\n",
       "    </tr>\n",
       "    <tr>\n",
       "      <th>3</th>\n",
       "      <td>8</td>\n",
       "      <td>0</td>\n",
       "      <td>24</td>\n",
       "      <td>-52.35</td>\n",
       "      <td>0.998020</td>\n",
       "      <td>0.010144</td>\n",
       "      <td>0.0</td>\n",
       "      <td>-53.112500</td>\n",
       "    </tr>\n",
       "    <tr>\n",
       "      <th>4</th>\n",
       "      <td>9</td>\n",
       "      <td>0</td>\n",
       "      <td>5</td>\n",
       "      <td>-50.00</td>\n",
       "      <td>0.997624</td>\n",
       "      <td>0.002062</td>\n",
       "      <td>0.0</td>\n",
       "      <td>-52.490000</td>\n",
       "    </tr>\n",
       "  </tbody>\n",
       "</table>\n",
       "</div>"
      ],
      "text/plain": [
       "   episode  score  steps  total_reward   epsilon  duration  avg_score_100  \\\n",
       "0        5      0     14        -50.15  0.999208  0.011178            0.0   \n",
       "1        6      0     25        -60.00  0.998812  0.013971            0.0   \n",
       "2        7      0      6        -49.95  0.998416  0.003056            0.0   \n",
       "3        8      0     24        -52.35  0.998020  0.010144            0.0   \n",
       "4        9      0      5        -50.00  0.997624  0.002062            0.0   \n",
       "\n",
       "   avg_reward_100  \n",
       "0      -50.150000  \n",
       "1      -55.075000  \n",
       "2      -53.366667  \n",
       "3      -53.112500  \n",
       "4      -52.490000  "
      ]
     },
     "metadata": {},
     "output_type": "display_data"
    },
    {
     "name": "stdout",
     "output_type": "stream",
     "text": [
      "\n",
      "Data info:\n",
      "<class 'pandas.core.frame.DataFrame'>\n",
      "RangeIndex: 10 entries, 0 to 9\n",
      "Data columns (total 8 columns):\n",
      " #   Column          Non-Null Count  Dtype  \n",
      "---  ------          --------------  -----  \n",
      " 0   episode         10 non-null     int64  \n",
      " 1   score           10 non-null     int64  \n",
      " 2   steps           10 non-null     int64  \n",
      " 3   total_reward    10 non-null     float64\n",
      " 4   epsilon         10 non-null     float64\n",
      " 5   duration        10 non-null     float64\n",
      " 6   avg_score_100   10 non-null     float64\n",
      " 7   avg_reward_100  10 non-null     float64\n",
      "dtypes: float64(5), int64(3)\n",
      "memory usage: 772.0 bytes\n"
     ]
    },
    {
     "data": {
      "text/plain": [
       "None"
      ]
     },
     "metadata": {},
     "output_type": "display_data"
    }
   ],
   "source": [
    "# Function to find and load training data\n",
    "def load_training_data(project_name=None):\n",
    "    \"\"\"\n",
    "    Load training data from CSV files.\n",
    "    If project_name is None, looks for the most recent training data.\n",
    "    \"\"\"\n",
    "    # Adjust this path to your actual data location\n",
    "    # This is typically in the user's roaming data directory\n",
    "    data_path = Path.home() / \"AppData\" / \"Roaming\" / \"SnakeAI\"\n",
    "    \n",
    "    if not data_path.exists():\n",
    "        print(f\"Data path not found: {data_path}\")\n",
    "        print(\"Please adjust the data_path variable to point to your project data.\")\n",
    "        return None\n",
    "    \n",
    "    # Find all CSV files\n",
    "    csv_files = list(data_path.glob(\"**/logs/*training_data*.csv\"))\n",
    "    \n",
    "    if not csv_files:\n",
    "        print(\"No training data CSV files found.\")\n",
    "        print(f\"Looking in: {data_path}\")\n",
    "        return None\n",
    "    \n",
    "    print(f\"Found {len(csv_files)} training data files:\")\n",
    "    for file in csv_files[-5:]:  # Show last 5 files\n",
    "        print(f\"  {file.name} - {file.stat().st_mtime}\")\n",
    "    \n",
    "    # Load the most recent file if no specific project specified\n",
    "    if project_name is None:\n",
    "        latest_file = max(csv_files, key=lambda x: x.stat().st_mtime)\n",
    "    else:\n",
    "        # Find files matching project name\n",
    "        matching_files = [f for f in csv_files if project_name.lower() in f.parent.parent.name.lower()]\n",
    "        if not matching_files:\n",
    "            print(f\"No files found for project: {project_name}\")\n",
    "            return None\n",
    "        latest_file = max(matching_files, key=lambda x: x.stat().st_mtime)\n",
    "    \n",
    "    print(f\"\\nLoading: {latest_file}\")\n",
    "    \n",
    "    try:\n",
    "        df = pd.read_csv(latest_file)\n",
    "        print(f\"Loaded {len(df)} episodes of training data\")\n",
    "        print(f\"Columns: {list(df.columns)}\")\n",
    "        return df\n",
    "    except Exception as e:\n",
    "        print(f\"Error loading data: {e}\")\n",
    "        return None\n",
    "\n",
    "# Load the data\n",
    "df = load_training_data()\n",
    "if df is not None:\n",
    "    print(\"\\nFirst few rows:\")\n",
    "    display(df.head())\n",
    "    print(\"\\nData info:\")\n",
    "    display(df.info())"
   ]
  },
  {
   "cell_type": "markdown",
   "id": "329caf29",
   "metadata": {},
   "source": [
    "## 2. Training Progress Visualization\n",
    "\n",
    "Create interactive plots showing training progress over time."
   ]
  },
  {
   "cell_type": "code",
   "execution_count": 3,
   "id": "3c260f20",
   "metadata": {},
   "outputs": [
    {
     "data": {
      "application/vnd.plotly.v1+json": {
       "config": {
        "plotlyServerURL": "https://plot.ly"
       },
       "data": [
        {
         "line": {
          "color": "lightblue"
         },
         "name": "Score",
         "opacity": 0.3,
         "type": "scatter",
         "x": {
          "bdata": "BQYHCAkKCwwNDg==",
          "dtype": "i1"
         },
         "xaxis": "x",
         "y": {
          "bdata": "AAAAAAAAAAAAAA==",
          "dtype": "i1"
         },
         "yaxis": "y"
        },
        {
         "line": {
          "color": "blue",
          "width": 3
         },
         "name": "Score (Rolling 100)",
         "type": "scatter",
         "x": {
          "bdata": "BQYHCAkKCwwNDg==",
          "dtype": "i1"
         },
         "xaxis": "x",
         "y": {
          "bdata": "AAAAAAAAAAAAAAAAAAAAAAAAAAAAAAAAAAAAAAAAAAAAAAAAAAAAAAAAAAAAAAAAAAAAAAAAAAAAAAAAAAAAAAAAAAAAAAAAAAAAAAAAAAA=",
          "dtype": "f8"
         },
         "yaxis": "y"
        },
        {
         "line": {
          "color": "lightgreen"
         },
         "name": "Total Reward",
         "opacity": 0.3,
         "type": "scatter",
         "x": {
          "bdata": "BQYHCAkKCwwNDg==",
          "dtype": "i1"
         },
         "xaxis": "x2",
         "y": {
          "bdata": "MzMzMzMTScAAAAAAAABOwJqZmZmZ+UjAzczMzMwsSsAAAAAAAABJwDMzMzMzU0nAMzMzMzPTSMCamZmZmflIwJqZmZmZGUnAZmZmZmbmSMA=",
          "dtype": "f8"
         },
         "yaxis": "y3"
        },
        {
         "line": {
          "color": "green",
          "width": 3
         },
         "name": "Reward (Rolling 100)",
         "type": "scatter",
         "x": {
          "bdata": "BQYHCAkKCwwNDg==",
          "dtype": "i1"
         },
         "xaxis": "x2",
         "y": {
          "bdata": "MzMzMzMTScCamZmZmYlLwO/u7u7urkrAZmZmZmaOSsAehetRuD5KwHh3d3d3F0rAkiRJkiTpScAzMzMzM8tJwHd3d3d3t0nAw/UoXI+iScA=",
          "dtype": "f8"
         },
         "yaxis": "y3"
        },
        {
         "line": {
          "color": "orange"
         },
         "name": "Steps",
         "opacity": 0.3,
         "type": "scatter",
         "x": {
          "bdata": "BQYHCAkKCwwNDg==",
          "dtype": "i1"
         },
         "xaxis": "x3",
         "y": {
          "bdata": "DhkGGAUUEAQJCQ==",
          "dtype": "i1"
         },
         "yaxis": "y5"
        },
        {
         "line": {
          "color": "red",
          "width": 3
         },
         "name": "Steps (Rolling 100)",
         "type": "scatter",
         "x": {
          "bdata": "BQYHCAkKCwwNDg==",
          "dtype": "i1"
         },
         "xaxis": "x3",
         "y": {
          "bdata": "AAAAAAAALEAAAAAAAIAzQAAAAAAAAC5AAAAAAABAMUCamZmZmZktQFVVVVVVVS9A27Zt27ZtL0AAAAAAAIAsQFVVVVVVVStAZmZmZmZmKkA=",
          "dtype": "f8"
         },
         "yaxis": "y5"
        },
        {
         "line": {
          "color": "purple",
          "width": 2
         },
         "name": "Epsilon",
         "type": "scatter",
         "x": {
          "bdata": "BQYHCAkKCwwNDg==",
          "dtype": "i1"
         },
         "xaxis": "x4",
         "y": {
          "bdata": "pdk8DoP57z94RluVRPbvP0qzeRwG8+8/HSCYo8fv7z/vjLYqiezvP8L51LFK6e8/lWbzOAzm7z9n0xHAzeLvPzpAMEeP3+8/DK1OzlDc7z8=",
          "dtype": "f8"
         },
         "yaxis": "y6"
        }
       ],
       "layout": {
        "annotations": [
         {
          "font": {
           "size": 16
          },
          "showarrow": false,
          "text": "Score Over Time",
          "x": 0.185,
          "xanchor": "center",
          "xref": "paper",
          "y": 1,
          "yanchor": "bottom",
          "yref": "paper"
         },
         {
          "font": {
           "size": 16
          },
          "showarrow": false,
          "text": "Total Reward Over Time",
          "x": 0.7550000000000001,
          "xanchor": "center",
          "xref": "paper",
          "y": 1,
          "yanchor": "bottom",
          "yref": "paper"
         },
         {
          "font": {
           "size": 16
          },
          "showarrow": false,
          "text": "Steps per Episode",
          "x": 0.185,
          "xanchor": "center",
          "xref": "paper",
          "y": 0.375,
          "yanchor": "bottom",
          "yref": "paper"
         },
         {
          "font": {
           "size": 16
          },
          "showarrow": false,
          "text": "Epsilon Decay",
          "x": 0.7550000000000001,
          "xanchor": "center",
          "xref": "paper",
          "y": 0.375,
          "yanchor": "bottom",
          "yref": "paper"
         }
        ],
        "height": 800,
        "showlegend": true,
        "template": {
         "data": {
          "bar": [
           {
            "error_x": {
             "color": "#2a3f5f"
            },
            "error_y": {
             "color": "#2a3f5f"
            },
            "marker": {
             "line": {
              "color": "#E5ECF6",
              "width": 0.5
             },
             "pattern": {
              "fillmode": "overlay",
              "size": 10,
              "solidity": 0.2
             }
            },
            "type": "bar"
           }
          ],
          "barpolar": [
           {
            "marker": {
             "line": {
              "color": "#E5ECF6",
              "width": 0.5
             },
             "pattern": {
              "fillmode": "overlay",
              "size": 10,
              "solidity": 0.2
             }
            },
            "type": "barpolar"
           }
          ],
          "carpet": [
           {
            "aaxis": {
             "endlinecolor": "#2a3f5f",
             "gridcolor": "white",
             "linecolor": "white",
             "minorgridcolor": "white",
             "startlinecolor": "#2a3f5f"
            },
            "baxis": {
             "endlinecolor": "#2a3f5f",
             "gridcolor": "white",
             "linecolor": "white",
             "minorgridcolor": "white",
             "startlinecolor": "#2a3f5f"
            },
            "type": "carpet"
           }
          ],
          "choropleth": [
           {
            "colorbar": {
             "outlinewidth": 0,
             "ticks": ""
            },
            "type": "choropleth"
           }
          ],
          "contour": [
           {
            "colorbar": {
             "outlinewidth": 0,
             "ticks": ""
            },
            "colorscale": [
             [
              0,
              "#0d0887"
             ],
             [
              0.1111111111111111,
              "#46039f"
             ],
             [
              0.2222222222222222,
              "#7201a8"
             ],
             [
              0.3333333333333333,
              "#9c179e"
             ],
             [
              0.4444444444444444,
              "#bd3786"
             ],
             [
              0.5555555555555556,
              "#d8576b"
             ],
             [
              0.6666666666666666,
              "#ed7953"
             ],
             [
              0.7777777777777778,
              "#fb9f3a"
             ],
             [
              0.8888888888888888,
              "#fdca26"
             ],
             [
              1,
              "#f0f921"
             ]
            ],
            "type": "contour"
           }
          ],
          "contourcarpet": [
           {
            "colorbar": {
             "outlinewidth": 0,
             "ticks": ""
            },
            "type": "contourcarpet"
           }
          ],
          "heatmap": [
           {
            "colorbar": {
             "outlinewidth": 0,
             "ticks": ""
            },
            "colorscale": [
             [
              0,
              "#0d0887"
             ],
             [
              0.1111111111111111,
              "#46039f"
             ],
             [
              0.2222222222222222,
              "#7201a8"
             ],
             [
              0.3333333333333333,
              "#9c179e"
             ],
             [
              0.4444444444444444,
              "#bd3786"
             ],
             [
              0.5555555555555556,
              "#d8576b"
             ],
             [
              0.6666666666666666,
              "#ed7953"
             ],
             [
              0.7777777777777778,
              "#fb9f3a"
             ],
             [
              0.8888888888888888,
              "#fdca26"
             ],
             [
              1,
              "#f0f921"
             ]
            ],
            "type": "heatmap"
           }
          ],
          "histogram": [
           {
            "marker": {
             "pattern": {
              "fillmode": "overlay",
              "size": 10,
              "solidity": 0.2
             }
            },
            "type": "histogram"
           }
          ],
          "histogram2d": [
           {
            "colorbar": {
             "outlinewidth": 0,
             "ticks": ""
            },
            "colorscale": [
             [
              0,
              "#0d0887"
             ],
             [
              0.1111111111111111,
              "#46039f"
             ],
             [
              0.2222222222222222,
              "#7201a8"
             ],
             [
              0.3333333333333333,
              "#9c179e"
             ],
             [
              0.4444444444444444,
              "#bd3786"
             ],
             [
              0.5555555555555556,
              "#d8576b"
             ],
             [
              0.6666666666666666,
              "#ed7953"
             ],
             [
              0.7777777777777778,
              "#fb9f3a"
             ],
             [
              0.8888888888888888,
              "#fdca26"
             ],
             [
              1,
              "#f0f921"
             ]
            ],
            "type": "histogram2d"
           }
          ],
          "histogram2dcontour": [
           {
            "colorbar": {
             "outlinewidth": 0,
             "ticks": ""
            },
            "colorscale": [
             [
              0,
              "#0d0887"
             ],
             [
              0.1111111111111111,
              "#46039f"
             ],
             [
              0.2222222222222222,
              "#7201a8"
             ],
             [
              0.3333333333333333,
              "#9c179e"
             ],
             [
              0.4444444444444444,
              "#bd3786"
             ],
             [
              0.5555555555555556,
              "#d8576b"
             ],
             [
              0.6666666666666666,
              "#ed7953"
             ],
             [
              0.7777777777777778,
              "#fb9f3a"
             ],
             [
              0.8888888888888888,
              "#fdca26"
             ],
             [
              1,
              "#f0f921"
             ]
            ],
            "type": "histogram2dcontour"
           }
          ],
          "mesh3d": [
           {
            "colorbar": {
             "outlinewidth": 0,
             "ticks": ""
            },
            "type": "mesh3d"
           }
          ],
          "parcoords": [
           {
            "line": {
             "colorbar": {
              "outlinewidth": 0,
              "ticks": ""
             }
            },
            "type": "parcoords"
           }
          ],
          "pie": [
           {
            "automargin": true,
            "type": "pie"
           }
          ],
          "scatter": [
           {
            "fillpattern": {
             "fillmode": "overlay",
             "size": 10,
             "solidity": 0.2
            },
            "type": "scatter"
           }
          ],
          "scatter3d": [
           {
            "line": {
             "colorbar": {
              "outlinewidth": 0,
              "ticks": ""
             }
            },
            "marker": {
             "colorbar": {
              "outlinewidth": 0,
              "ticks": ""
             }
            },
            "type": "scatter3d"
           }
          ],
          "scattercarpet": [
           {
            "marker": {
             "colorbar": {
              "outlinewidth": 0,
              "ticks": ""
             }
            },
            "type": "scattercarpet"
           }
          ],
          "scattergeo": [
           {
            "marker": {
             "colorbar": {
              "outlinewidth": 0,
              "ticks": ""
             }
            },
            "type": "scattergeo"
           }
          ],
          "scattergl": [
           {
            "marker": {
             "colorbar": {
              "outlinewidth": 0,
              "ticks": ""
             }
            },
            "type": "scattergl"
           }
          ],
          "scattermap": [
           {
            "marker": {
             "colorbar": {
              "outlinewidth": 0,
              "ticks": ""
             }
            },
            "type": "scattermap"
           }
          ],
          "scattermapbox": [
           {
            "marker": {
             "colorbar": {
              "outlinewidth": 0,
              "ticks": ""
             }
            },
            "type": "scattermapbox"
           }
          ],
          "scatterpolar": [
           {
            "marker": {
             "colorbar": {
              "outlinewidth": 0,
              "ticks": ""
             }
            },
            "type": "scatterpolar"
           }
          ],
          "scatterpolargl": [
           {
            "marker": {
             "colorbar": {
              "outlinewidth": 0,
              "ticks": ""
             }
            },
            "type": "scatterpolargl"
           }
          ],
          "scatterternary": [
           {
            "marker": {
             "colorbar": {
              "outlinewidth": 0,
              "ticks": ""
             }
            },
            "type": "scatterternary"
           }
          ],
          "surface": [
           {
            "colorbar": {
             "outlinewidth": 0,
             "ticks": ""
            },
            "colorscale": [
             [
              0,
              "#0d0887"
             ],
             [
              0.1111111111111111,
              "#46039f"
             ],
             [
              0.2222222222222222,
              "#7201a8"
             ],
             [
              0.3333333333333333,
              "#9c179e"
             ],
             [
              0.4444444444444444,
              "#bd3786"
             ],
             [
              0.5555555555555556,
              "#d8576b"
             ],
             [
              0.6666666666666666,
              "#ed7953"
             ],
             [
              0.7777777777777778,
              "#fb9f3a"
             ],
             [
              0.8888888888888888,
              "#fdca26"
             ],
             [
              1,
              "#f0f921"
             ]
            ],
            "type": "surface"
           }
          ],
          "table": [
           {
            "cells": {
             "fill": {
              "color": "#EBF0F8"
             },
             "line": {
              "color": "white"
             }
            },
            "header": {
             "fill": {
              "color": "#C8D4E3"
             },
             "line": {
              "color": "white"
             }
            },
            "type": "table"
           }
          ]
         },
         "layout": {
          "annotationdefaults": {
           "arrowcolor": "#2a3f5f",
           "arrowhead": 0,
           "arrowwidth": 1
          },
          "autotypenumbers": "strict",
          "coloraxis": {
           "colorbar": {
            "outlinewidth": 0,
            "ticks": ""
           }
          },
          "colorscale": {
           "diverging": [
            [
             0,
             "#8e0152"
            ],
            [
             0.1,
             "#c51b7d"
            ],
            [
             0.2,
             "#de77ae"
            ],
            [
             0.3,
             "#f1b6da"
            ],
            [
             0.4,
             "#fde0ef"
            ],
            [
             0.5,
             "#f7f7f7"
            ],
            [
             0.6,
             "#e6f5d0"
            ],
            [
             0.7,
             "#b8e186"
            ],
            [
             0.8,
             "#7fbc41"
            ],
            [
             0.9,
             "#4d9221"
            ],
            [
             1,
             "#276419"
            ]
           ],
           "sequential": [
            [
             0,
             "#0d0887"
            ],
            [
             0.1111111111111111,
             "#46039f"
            ],
            [
             0.2222222222222222,
             "#7201a8"
            ],
            [
             0.3333333333333333,
             "#9c179e"
            ],
            [
             0.4444444444444444,
             "#bd3786"
            ],
            [
             0.5555555555555556,
             "#d8576b"
            ],
            [
             0.6666666666666666,
             "#ed7953"
            ],
            [
             0.7777777777777778,
             "#fb9f3a"
            ],
            [
             0.8888888888888888,
             "#fdca26"
            ],
            [
             1,
             "#f0f921"
            ]
           ],
           "sequentialminus": [
            [
             0,
             "#0d0887"
            ],
            [
             0.1111111111111111,
             "#46039f"
            ],
            [
             0.2222222222222222,
             "#7201a8"
            ],
            [
             0.3333333333333333,
             "#9c179e"
            ],
            [
             0.4444444444444444,
             "#bd3786"
            ],
            [
             0.5555555555555556,
             "#d8576b"
            ],
            [
             0.6666666666666666,
             "#ed7953"
            ],
            [
             0.7777777777777778,
             "#fb9f3a"
            ],
            [
             0.8888888888888888,
             "#fdca26"
            ],
            [
             1,
             "#f0f921"
            ]
           ]
          },
          "colorway": [
           "#636efa",
           "#EF553B",
           "#00cc96",
           "#ab63fa",
           "#FFA15A",
           "#19d3f3",
           "#FF6692",
           "#B6E880",
           "#FF97FF",
           "#FECB52"
          ],
          "font": {
           "color": "#2a3f5f"
          },
          "geo": {
           "bgcolor": "white",
           "lakecolor": "white",
           "landcolor": "#E5ECF6",
           "showlakes": true,
           "showland": true,
           "subunitcolor": "white"
          },
          "hoverlabel": {
           "align": "left"
          },
          "hovermode": "closest",
          "mapbox": {
           "style": "light"
          },
          "paper_bgcolor": "white",
          "plot_bgcolor": "#E5ECF6",
          "polar": {
           "angularaxis": {
            "gridcolor": "white",
            "linecolor": "white",
            "ticks": ""
           },
           "bgcolor": "#E5ECF6",
           "radialaxis": {
            "gridcolor": "white",
            "linecolor": "white",
            "ticks": ""
           }
          },
          "scene": {
           "xaxis": {
            "backgroundcolor": "#E5ECF6",
            "gridcolor": "white",
            "gridwidth": 2,
            "linecolor": "white",
            "showbackground": true,
            "ticks": "",
            "zerolinecolor": "white"
           },
           "yaxis": {
            "backgroundcolor": "#E5ECF6",
            "gridcolor": "white",
            "gridwidth": 2,
            "linecolor": "white",
            "showbackground": true,
            "ticks": "",
            "zerolinecolor": "white"
           },
           "zaxis": {
            "backgroundcolor": "#E5ECF6",
            "gridcolor": "white",
            "gridwidth": 2,
            "linecolor": "white",
            "showbackground": true,
            "ticks": "",
            "zerolinecolor": "white"
           }
          },
          "shapedefaults": {
           "line": {
            "color": "#2a3f5f"
           }
          },
          "ternary": {
           "aaxis": {
            "gridcolor": "white",
            "linecolor": "white",
            "ticks": ""
           },
           "baxis": {
            "gridcolor": "white",
            "linecolor": "white",
            "ticks": ""
           },
           "bgcolor": "#E5ECF6",
           "caxis": {
            "gridcolor": "white",
            "linecolor": "white",
            "ticks": ""
           }
          },
          "title": {
           "x": 0.05
          },
          "xaxis": {
           "automargin": true,
           "gridcolor": "white",
           "linecolor": "white",
           "ticks": "",
           "title": {
            "standoff": 15
           },
           "zerolinecolor": "white",
           "zerolinewidth": 2
          },
          "yaxis": {
           "automargin": true,
           "gridcolor": "white",
           "linecolor": "white",
           "ticks": "",
           "title": {
            "standoff": 15
           },
           "zerolinecolor": "white",
           "zerolinewidth": 2
          }
         }
        },
        "title": {
         "text": "Training Progress Dashboard"
        },
        "xaxis": {
         "anchor": "y",
         "domain": [
          0,
          0.37
         ],
         "title": {
          "text": "Episode"
         }
        },
        "xaxis2": {
         "anchor": "y3",
         "domain": [
          0.5700000000000001,
          0.9400000000000001
         ],
         "title": {
          "text": "Episode"
         }
        },
        "xaxis3": {
         "anchor": "y5",
         "domain": [
          0,
          0.37
         ],
         "title": {
          "text": "Episode"
         }
        },
        "xaxis4": {
         "anchor": "y6",
         "domain": [
          0.5700000000000001,
          0.9400000000000001
         ],
         "title": {
          "text": "Episode"
         }
        },
        "yaxis": {
         "anchor": "x",
         "domain": [
          0.625,
          1
         ],
         "title": {
          "text": "Score"
         }
        },
        "yaxis2": {
         "anchor": "x",
         "overlaying": "y",
         "side": "right",
         "title": {
          "text": "Score"
         }
        },
        "yaxis3": {
         "anchor": "x2",
         "domain": [
          0.625,
          1
         ],
         "title": {
          "text": "Reward"
         }
        },
        "yaxis4": {
         "anchor": "x2",
         "overlaying": "y3",
         "side": "right",
         "title": {
          "text": "Reward"
         }
        },
        "yaxis5": {
         "anchor": "x3",
         "domain": [
          0,
          0.375
         ],
         "title": {
          "text": "Steps"
         }
        },
        "yaxis6": {
         "anchor": "x4",
         "domain": [
          0,
          0.375
         ],
         "title": {
          "text": "Epsilon"
         }
        }
       }
      },
      "image/png": "[encoded data removed]"
     },
     "metadata": {},
     "output_type": "display_data"
    },
    {
     "name": "stdout",
     "output_type": "stream",
     "text": [
      "\n",
      "=== Training Summary ===\n",
      "Total Episodes: 10\n",
      "Average Score: 0.00\n",
      "Best Score: 0\n",
      "Average Reward: -51.27\n",
      "Average Steps: 13.20\n",
      "\n",
      "Improvement: 0.0% (from 0.00 to 0.00)\n"
     ]
    }
   ],
   "source": [
    "# Create interactive training progress visualization\n",
    "if df is not None:\n",
    "    # Calculate rolling averages\n",
    "    window_size = 100\n",
    "    df['score_rolling'] = df['score'].rolling(window=window_size, min_periods=1).mean()\n",
    "    df['reward_rolling'] = df['total_reward'].rolling(window=window_size, min_periods=1).mean()\n",
    "    df['steps_rolling'] = df['steps'].rolling(window=window_size, min_periods=1).mean()\n",
    "    \n",
    "    # Create subplots\n",
    "    fig = make_subplots(\n",
    "        rows=2, cols=2,\n",
    "        subplot_titles=('Score Over Time', 'Total Reward Over Time', \n",
    "                       'Steps per Episode', 'Epsilon Decay'),\n",
    "        specs=[[{\"secondary_y\": True}, {\"secondary_y\": True}],\n",
    "               [{\"secondary_y\": False}, {\"secondary_y\": False}]]\n",
    "    )\n",
    "    \n",
    "    # Score plot\n",
    "    fig.add_trace(go.Scatter(x=df['episode'], y=df['score'], \n",
    "                            name='Score', opacity=0.3, line=dict(color='lightblue')),\n",
    "                  row=1, col=1)\n",
    "    fig.add_trace(go.Scatter(x=df['episode'], y=df['score_rolling'], \n",
    "                            name=f'Score (Rolling {window_size})', line=dict(color='blue', width=3)),\n",
    "                  row=1, col=1)\n",
    "    \n",
    "    # Reward plot\n",
    "    fig.add_trace(go.Scatter(x=df['episode'], y=df['total_reward'], \n",
    "                            name='Total Reward', opacity=0.3, line=dict(color='lightgreen')),\n",
    "                  row=1, col=2)\n",
    "    fig.add_trace(go.Scatter(x=df['episode'], y=df['reward_rolling'], \n",
    "                            name=f'Reward (Rolling {window_size})', line=dict(color='green', width=3)),\n",
    "                  row=1, col=2)\n",
    "    \n",
    "    # Steps plot\n",
    "    fig.add_trace(go.Scatter(x=df['episode'], y=df['steps'], \n",
    "                            name='Steps', opacity=0.3, line=dict(color='orange')),\n",
    "                  row=2, col=1)\n",
    "    fig.add_trace(go.Scatter(x=df['episode'], y=df['steps_rolling'], \n",
    "                            name=f'Steps (Rolling {window_size})', line=dict(color='red', width=3)),\n",
    "                  row=2, col=1)\n",
    "    \n",
    "    # Epsilon plot (if available)\n",
    "    if 'epsilon' in df.columns:\n",
    "        fig.add_trace(go.Scatter(x=df['episode'], y=df['epsilon'], \n",
    "                                name='Epsilon', line=dict(color='purple', width=2)),\n",
    "                      row=2, col=2)\n",
    "    \n",
    "    fig.update_layout(height=800, title_text=\"Training Progress Dashboard\", showlegend=True)\n",
    "    fig.update_xaxes(title_text=\"Episode\")\n",
    "    fig.update_yaxes(title_text=\"Score\", row=1, col=1)\n",
    "    fig.update_yaxes(title_text=\"Reward\", row=1, col=2)\n",
    "    fig.update_yaxes(title_text=\"Steps\", row=2, col=1)\n",
    "    fig.update_yaxes(title_text=\"Epsilon\", row=2, col=2)\n",
    "    \n",
    "    fig.show()\n",
    "    \n",
    "    # Print summary statistics\n",
    "    print(\"\\n=== Training Summary ===\")\n",
    "    print(f\"Total Episodes: {len(df)}\")\n",
    "    print(f\"Average Score: {df['score'].mean():.2f}\")\n",
    "    print(f\"Best Score: {df['score'].max()}\")\n",
    "    print(f\"Average Reward: {df['total_reward'].mean():.2f}\")\n",
    "    print(f\"Average Steps: {df['steps'].mean():.2f}\")\n",
    "    \n",
    "    # Show improvement over time\n",
    "    first_100 = df.head(100)['score'].mean()\n",
    "    last_100 = df.tail(100)['score'].mean()\n",
    "    improvement = ((last_100 - first_100) / first_100 * 100) if first_100 > 0 else 0\n",
    "    print(f\"\\nImprovement: {improvement:.1f}% (from {first_100:.2f} to {last_100:.2f})\")"
   ]
  },
  {
   "cell_type": "markdown",
   "id": "bbc1bb58",
   "metadata": {},
   "source": [
    "## 3. Strategy Analysis\n",
    "\n",
    "Analyze performance across different strategies and training stages."
   ]
  },
  {
   "cell_type": "code",
   "execution_count": 4,
   "id": "dccc5b68",
   "metadata": {},
   "outputs": [
    {
     "name": "stdout",
     "output_type": "stream",
     "text": [
      "Strategy analysis requires 'strategy_name' column in the data.\n"
     ]
    }
   ],
   "source": [
    "# Strategy performance analysis\n",
    "if df is not None and 'strategy_name' in df.columns:\n",
    "    # Group by strategy\n",
    "    strategy_stats = df.groupby('strategy_name').agg({\n",
    "        'score': ['mean', 'std', 'max', 'count'],\n",
    "        'total_reward': ['mean', 'std'],\n",
    "        'steps': ['mean', 'std']\n",
    "    }).round(2)\n",
    "    \n",
    "    print(\"Strategy Performance Comparison:\")\n",
    "    display(strategy_stats)\n",
    "    \n",
    "    # Create strategy comparison visualization\n",
    "    fig, axes = plt.subplots(2, 2, figsize=(15, 10))\n",
    "    \n",
    "    # Score distribution by strategy\n",
    "    sns.boxplot(data=df, x='strategy_name', y='score', ax=axes[0,0])\n",
    "    axes[0,0].set_title('Score Distribution by Strategy')\n",
    "    axes[0,0].tick_params(axis='x', rotation=45)\n",
    "    \n",
    "    # Reward distribution by strategy\n",
    "    sns.boxplot(data=df, x='strategy_name', y='total_reward', ax=axes[0,1])\n",
    "    axes[0,1].set_title('Reward Distribution by Strategy')\n",
    "    axes[0,1].tick_params(axis='x', rotation=45)\n",
    "    \n",
    "    # Strategy usage over time\n",
    "    strategy_over_time = df.groupby(['episode', 'strategy_name']).size().unstack(fill_value=0)\n",
    "    strategy_over_time.plot(kind='area', stacked=True, ax=axes[1,0], alpha=0.7)\n",
    "    axes[1,0].set_title('Strategy Usage Over Time')\n",
    "    axes[1,0].set_xlabel('Episode')\n",
    "    axes[1,0].legend(bbox_to_anchor=(1.05, 1), loc='upper left')\n",
    "    \n",
    "    # Performance trends by strategy\n",
    "    for strategy in df['strategy_name'].unique():\n",
    "        strategy_data = df[df['strategy_name'] == strategy]\n",
    "        strategy_data['score_rolling'] = strategy_data['score'].rolling(50, min_periods=1).mean()\n",
    "        axes[1,1].plot(strategy_data['episode'], strategy_data['score_rolling'], \n",
    "                      label=strategy, alpha=0.8, linewidth=2)\n",
    "    \n",
    "    axes[1,1].set_title('Performance Trends by Strategy')\n",
    "    axes[1,1].set_xlabel('Episode')\n",
    "    axes[1,1].set_ylabel('Rolling Average Score')\n",
    "    axes[1,1].legend()\n",
    "    \n",
    "    plt.tight_layout()\n",
    "    plt.show()\n",
    "else:\n",
    "    print(\"Strategy analysis requires 'strategy_name' column in the data.\")"
   ]
  },
  {
   "cell_type": "markdown",
   "id": "57994db9",
   "metadata": {},
   "source": [
    "## 4. Reward Component Analysis\n",
    "\n",
    "Analyze individual reward components to understand what drives performance."
   ]
  },
  {
   "cell_type": "code",
   "execution_count": 5,
   "id": "fedb8f7c",
   "metadata": {},
   "outputs": [
    {
     "name": "stdout",
     "output_type": "stream",
     "text": [
      "Found reward components: ['avg_reward_100', 'reward_rolling']\n"
     ]
    },
    {
     "data": {
      "image/png": "[encoded data removed]",
      "text/plain": [
       "<Figure size 1000x800 with 2 Axes>"
      ]
     },
     "metadata": {},
     "output_type": "display_data"
    },
    {
     "data": {
      "image/png": "[encoded data removed]",
      "text/plain": [
       "<Figure size 1200x800 with 2 Axes>"
      ]
     },
     "metadata": {},
     "output_type": "display_data"
    }
   ],
   "source": [
    "# Reward component analysis\n",
    "if df is not None:\n",
    "    # Look for reward component columns\n",
    "    reward_columns = [col for col in df.columns if 'reward' in col.lower() and col != 'total_reward']\n",
    "    \n",
    "    if reward_columns:\n",
    "        print(f\"Found reward components: {reward_columns}\")\n",
    "        \n",
    "        # Create correlation matrix\n",
    "        reward_data = df[reward_columns + ['score', 'total_reward']]\n",
    "        correlation_matrix = reward_data.corr()\n",
    "        \n",
    "        plt.figure(figsize=(10, 8))\n",
    "        sns.heatmap(correlation_matrix, annot=True, cmap='coolwarm', center=0,\n",
    "                   square=True, fmt='.2f')\n",
    "        plt.title('Reward Component Correlations')\n",
    "        plt.tight_layout()\n",
    "        plt.show()\n",
    "        \n",
    "        # Reward component trends\n",
    "        fig, axes = plt.subplots(len(reward_columns), 1, figsize=(12, 4*len(reward_columns)))\n",
    "        if len(reward_columns) == 1:\n",
    "            axes = [axes]\n",
    "        \n",
    "        for i, col in enumerate(reward_columns):\n",
    "            # Calculate rolling average\n",
    "            rolling_avg = df[col].rolling(100, min_periods=1).mean()\n",
    "            \n",
    "            axes[i].plot(df['episode'], df[col], alpha=0.3, color='lightblue')\n",
    "            axes[i].plot(df['episode'], rolling_avg, color='darkblue', linewidth=2)\n",
    "            axes[i].set_title(f'{col} Over Time')\n",
    "            axes[i].set_xlabel('Episode')\n",
    "            axes[i].set_ylabel(col)\n",
    "            axes[i].grid(True, alpha=0.3)\n",
    "        \n",
    "        plt.tight_layout()\n",
    "        plt.show()\n",
    "        \n",
    "    else:\n",
    "        print(\"No individual reward components found in the data.\")\n",
    "        print(\"Available columns:\", list(df.columns))"
   ]
  },
  {
   "cell_type": "markdown",
   "id": "2984dbf7",
   "metadata": {},
   "source": [
    "## 5. Performance Metrics Dashboard\n",
    "\n",
    "Create a comprehensive dashboard with key performance indicators."
   ]
  },
  {
   "cell_type": "code",
   "execution_count": null,
   "id": "1cfc8b5a",
   "metadata": {},
   "outputs": [],
   "source": [
    "# Performance metrics dashboard\n",
    "if df is not None:\n",
    "    # Calculate key metrics\n",
    "    total_episodes = len(df)\n",
    "    avg_score = df['score'].mean()\n",
    "    max_score = df['score'].max()\n",
    "    success_rate = (df['score'] > 0).mean() * 100  # Episodes where at least 1 food was eaten\n",
    "    \n",
    "    # Calculate learning efficiency (episodes to reach certain milestones)\n",
    "    milestones = [5, 10, 15, 20]\n",
    "    episodes_to_milestone = {}\n",
    "    \n",
    "    for milestone in milestones:\n",
    "        episodes_reaching = df[df['score'] >= milestone]\n",
    "        if not episodes_reaching.empty:\n",
    "            episodes_to_milestone[milestone] = episodes_reaching['episode'].iloc[0]\n",
    "        else:\n",
    "            episodes_to_milestone[milestone] = None\n",
    "    \n",
    "    # Create metrics summary\n",
    "    print(\"\\n\" + \"=\"*50)\n",
    "    print(\"           PERFORMANCE DASHBOARD\")\n",
    "    print(\"=\"*50)\n",
    "    print(f\"📊 Total Episodes Trained: {total_episodes:,}\")\n",
    "    print(f\"🎯 Average Score: {avg_score:.2f}\")\n",
    "    print(f\"🏆 Best Score: {max_score}\")\n",
    "    print(f\"✅ Success Rate: {success_rate:.1f}%\")\n",
    "    print(f\"⚡ Average Steps: {df['steps'].mean():.1f}\")\n",
    "    \n",
    "    print(\"\\n🎖️  Learning Milestones:\")\n",
    "    for milestone, episode in episodes_to_milestone.items():\n",
    "        if episode is not None:\n",
    "            print(f\"   Score {milestone:2d}: Episode {episode:,}\")\n",
    "        else:\n",
    "            print(f\"   Score {milestone:2d}: Not reached\")\n",
    "    \n",
    "    # Recent performance (last 10% of episodes)\n",
    "    recent_episodes = int(total_episodes * 0.1)\n",
    "    recent_data = df.tail(recent_episodes)\n",
    "    \n",
    "    print(f\"\\n📈 Recent Performance (Last {recent_episodes} episodes):\")\n",
    "    print(f\"   Average Score: {recent_data['score'].mean():.2f}\")\n",
    "    print(f\"   Best Score: {recent_data['score'].max()}\")\n",
    "    print(f\"   Success Rate: {(recent_data['score'] > 0).mean() * 100:.1f}%\")\n",
    "    \n",
    "    # Training stability (coefficient of variation in recent episodes)\n",
    "    cv = recent_data['score'].std() / recent_data['score'].mean() if recent_data['score'].mean() > 0 else float('inf')\n",
    "    stability = \"High\" if cv < 0.5 else \"Medium\" if cv < 1.0 else \"Low\"\n",
    "    print(f\"📊 Training Stability: {stability} (CV: {cv:.2f})\")\n",
    "    \n",
    "    print(\"=\"*50)"
   ]
  },
  {
   "cell_type": "markdown",
   "id": "e8638739",
   "metadata": {},
   "source": [
    "## 6. Export Analysis Results\n",
    "\n",
    "Save analysis results and visualizations for reporting."
   ]
  },
  {
   "cell_type": "code",
   "execution_count": null,
   "id": "84319ffd",
   "metadata": {},
   "outputs": [],
   "source": [
    "# Export analysis results\n",
    "if df is not None:\n",
    "    # Create output directory\n",
    "    output_dir = Path('../analysis_outputs')\n",
    "    output_dir.mkdir(exist_ok=True)\n",
    "    \n",
    "    # Save summary statistics\n",
    "    summary_stats = {\n",
    "        'total_episodes': len(df),\n",
    "        'avg_score': df['score'].mean(),\n",
    "        'max_score': df['score'].max(),\n",
    "        'avg_reward': df['total_reward'].mean(),\n",
    "        'avg_steps': df['steps'].mean(),\n",
    "        'success_rate': (df['score'] > 0).mean() * 100\n",
    "    }\n",
    "    \n",
    "    # Save to CSV\n",
    "    summary_df = pd.DataFrame([summary_stats])\n",
    "    summary_df.to_csv(output_dir / 'training_summary.csv', index=False)\n",
    "    \n",
    "    print(f\"Analysis results saved to: {output_dir}\")\n",
    "    print(\"Files created:\")\n",
    "    print(f\"  - training_summary.csv\")\n",
    "    \n",
    "    # Optionally save processed data with rolling averages\n",
    "    if 'score_rolling' in df.columns:\n",
    "        df.to_csv(output_dir / 'processed_training_data.csv', index=False)\n",
    "        print(f\"  - processed_training_data.csv\")\n",
    "    \n",
    "    print(\"\\n✅ Analysis complete!\")"
   ]
  }
 ],
 "metadata": {
  "kernelspec": {
   "display_name": "Python 3 (ipykernel)",
   "language": "python",
   "name": "python3"
  },
  "language_info": {
   "codemirror_mode": {
    "name": "ipython",
    "version": 3
   },
   "file_extension": ".py",
   "mimetype": "text/x-python",
   "name": "python",
   "nbconvert_exporter": "python",
   "pygments_lexer": "ipython3",
   "version": "3.11.9"
  }
 },
 "nbformat": 4,
 "nbformat_minor": 5
}
